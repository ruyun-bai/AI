{
 "cells": [
  {
   "cell_type": "code",
   "execution_count": 1,
   "id": "0c5f9005",
   "metadata": {},
   "outputs": [],
   "source": [
    "import tensorflow as tf"
   ]
  },
  {
   "cell_type": "code",
   "execution_count": 2,
   "id": "52b9c01f",
   "metadata": {},
   "outputs": [
    {
     "name": "stdout",
     "output_type": "stream",
     "text": [
      "Tensorflow version: 2.11.0\n"
     ]
    }
   ],
   "source": [
    "print(\"Tensorflow version: {}\".format(tf.__version__))"
   ]
  },
  {
   "cell_type": "markdown",
   "id": "a3b52b97",
   "metadata": {},
   "source": [
    "当没有为输入模式的时候，点击\"l\"，会出现类似这个有编号的样子\n",
    "点击\"f\"会进入查找替换"
   ]
  },
  {
   "cell_type": "code",
   "execution_count": 3,
   "id": "3fe98c0b",
   "metadata": {},
   "outputs": [],
   "source": [
    "from tensorflow import keras\n",
    "import matplotlib.pyplot as plt\n",
    "%matplotlib inline"
   ]
  },
  {
   "cell_type": "code",
   "execution_count": 4,
   "id": "8a1c3b40",
   "metadata": {},
   "outputs": [],
   "source": [
    "fashion_mnist = keras.datasets.fashion_mnist\n",
    "\n",
    "(train_images, train_labels), (test_images, test_labels)= fashion_mnist.load_data()"
   ]
  },
  {
   "cell_type": "code",
   "execution_count": 5,
   "id": "94deea19",
   "metadata": {},
   "outputs": [],
   "source": [
    "train_images = train_images / 255.0\n",
    "test_images = test_images / 255.0"
   ]
  },
  {
   "cell_type": "markdown",
   "id": "46b5b3fe",
   "metadata": {},
   "source": [
    "第一个是个数，后面的是形状"
   ]
  },
  {
   "cell_type": "code",
   "execution_count": 6,
   "id": "b85d253a",
   "metadata": {},
   "outputs": [
    {
     "data": {
      "text/plain": [
       "(60000, 28, 28)"
      ]
     },
     "execution_count": 6,
     "metadata": {},
     "output_type": "execute_result"
    }
   ],
   "source": [
    "train_images.shape"
   ]
  },
  {
   "cell_type": "markdown",
   "id": "ae5420a2",
   "metadata": {},
   "source": [
    "函数api的核心思想就是可以调用\n",
    "\n",
    "首先建立一个输入\n",
    "\n",
    "函数式api的好处是可以建立一个多输入多输出的模型"
   ]
  },
  {
   "cell_type": "code",
   "execution_count": 7,
   "id": "14882c40",
   "metadata": {},
   "outputs": [],
   "source": [
    "input = keras.Input(shape=(28, 28))"
   ]
  },
  {
   "cell_type": "markdown",
   "id": "be35f011",
   "metadata": {},
   "source": [
    "把keras.;ayers.Flatten()看作一个函数，然后输入时input"
   ]
  },
  {
   "cell_type": "code",
   "execution_count": 8,
   "id": "18f0b567",
   "metadata": {},
   "outputs": [],
   "source": [
    "x = keras.layers.Flatten()(input)"
   ]
  },
  {
   "cell_type": "markdown",
   "id": "5c46daf6",
   "metadata": {},
   "source": [
    "keras.layers.Dense(32, activation='relu')是建立的dense层，直接用这个调用x，这就是函数apid的关键点，就是将每个层当成一个函数调用"
   ]
  },
  {
   "cell_type": "code",
   "execution_count": 9,
   "id": "b0df614a",
   "metadata": {},
   "outputs": [],
   "source": [
    "x = keras.layers.Dense(32, activation='relu')(x)"
   ]
  },
  {
   "cell_type": "code",
   "execution_count": 10,
   "id": "7224f8ab",
   "metadata": {},
   "outputs": [],
   "source": [
    "x = keras.layers.Dropout(0.5)(x)"
   ]
  },
  {
   "cell_type": "code",
   "execution_count": 11,
   "id": "cdf56326",
   "metadata": {},
   "outputs": [],
   "source": [
    "x = keras.layers.Dense(64, activation='relu')(x)"
   ]
  },
  {
   "cell_type": "code",
   "execution_count": 12,
   "id": "a1ef25df",
   "metadata": {},
   "outputs": [],
   "source": [
    "output = keras.layers.Dense(10, activation = 'softmax')(x)"
   ]
  },
  {
   "cell_type": "markdown",
   "id": "f95075d0",
   "metadata": {},
   "source": [
    "这样input和output之间正好建立了这个网络，告诉这个模型，它的输入时input，输出时output，这样就会根据输入和输出来初始化好这个模型"
   ]
  },
  {
   "cell_type": "code",
   "execution_count": 13,
   "id": "4ec26961",
   "metadata": {},
   "outputs": [],
   "source": [
    "model = keras.Model(inputs = input, outputs = output)"
   ]
  },
  {
   "cell_type": "markdown",
   "id": "e2b25a6d",
   "metadata": {},
   "source": [
    "[(None, 28, 28)] 中None代表个数，可以是任意个。"
   ]
  },
  {
   "cell_type": "code",
   "execution_count": 14,
   "id": "bc80806b",
   "metadata": {},
   "outputs": [
    {
     "name": "stdout",
     "output_type": "stream",
     "text": [
      "Model: \"model\"\n",
      "_________________________________________________________________\n",
      " Layer (type)                Output Shape              Param #   \n",
      "=================================================================\n",
      " input_1 (InputLayer)        [(None, 28, 28)]          0         \n",
      "                                                                 \n",
      " flatten (Flatten)           (None, 784)               0         \n",
      "                                                                 \n",
      " dense (Dense)               (None, 32)                25120     \n",
      "                                                                 \n",
      " dropout (Dropout)           (None, 32)                0         \n",
      "                                                                 \n",
      " dense_1 (Dense)             (None, 64)                2112      \n",
      "                                                                 \n",
      " dense_2 (Dense)             (None, 10)                650       \n",
      "                                                                 \n",
      "=================================================================\n",
      "Total params: 27,882\n",
      "Trainable params: 27,882\n",
      "Non-trainable params: 0\n",
      "_________________________________________________________________\n"
     ]
    }
   ],
   "source": [
    "model.summary()"
   ]
  },
  {
   "cell_type": "code",
   "execution_count": 15,
   "id": "ba98c110",
   "metadata": {},
   "outputs": [],
   "source": [
    "model.compile(optimizer = 'adam',\n",
    "             loss='sparse_categorical_crossentropy',\n",
    "             metrics=['accuracy']\n",
    "             )"
   ]
  },
  {
   "cell_type": "code",
   "execution_count": 17,
   "id": "710ea2e0",
   "metadata": {},
   "outputs": [
    {
     "name": "stdout",
     "output_type": "stream",
     "text": [
      "Epoch 1/30\n",
      "1875/1875 [==============================] - 4s 2ms/step - loss: 0.8212 - accuracy: 0.6959 - val_loss: 0.5277 - val_accuracy: 0.8079\n",
      "Epoch 2/30\n",
      "1875/1875 [==============================] - 3s 2ms/step - loss: 0.6164 - accuracy: 0.7743 - val_loss: 0.5275 - val_accuracy: 0.7992\n",
      "Epoch 3/30\n",
      "1875/1875 [==============================] - 3s 2ms/step - loss: 0.5779 - accuracy: 0.7890 - val_loss: 0.5870 - val_accuracy: 0.7522\n",
      "Epoch 4/30\n",
      "1875/1875 [==============================] - 3s 2ms/step - loss: 0.5592 - accuracy: 0.7956 - val_loss: 0.5583 - val_accuracy: 0.7826\n",
      "Epoch 5/30\n",
      "1875/1875 [==============================] - 3s 2ms/step - loss: 0.5373 - accuracy: 0.8031 - val_loss: 0.6202 - val_accuracy: 0.7513\n",
      "Epoch 6/30\n",
      "1875/1875 [==============================] - 3s 2ms/step - loss: 0.5273 - accuracy: 0.8080 - val_loss: 0.5847 - val_accuracy: 0.7664\n",
      "Epoch 7/30\n",
      "1875/1875 [==============================] - 3s 2ms/step - loss: 0.5172 - accuracy: 0.8095 - val_loss: 0.5170 - val_accuracy: 0.7984\n",
      "Epoch 8/30\n",
      "1875/1875 [==============================] - 3s 2ms/step - loss: 0.5120 - accuracy: 0.8130 - val_loss: 0.5797 - val_accuracy: 0.7658\n",
      "Epoch 9/30\n",
      "1875/1875 [==============================] - 3s 2ms/step - loss: 0.5036 - accuracy: 0.8157 - val_loss: 0.5737 - val_accuracy: 0.7648\n",
      "Epoch 10/30\n",
      "1875/1875 [==============================] - 3s 2ms/step - loss: 0.4948 - accuracy: 0.8191 - val_loss: 0.5774 - val_accuracy: 0.7642\n",
      "Epoch 11/30\n",
      "1875/1875 [==============================] - 4s 2ms/step - loss: 0.4908 - accuracy: 0.8216 - val_loss: 0.5205 - val_accuracy: 0.7997\n",
      "Epoch 12/30\n",
      "1875/1875 [==============================] - 4s 2ms/step - loss: 0.4858 - accuracy: 0.8218 - val_loss: 0.5115 - val_accuracy: 0.8054\n",
      "Epoch 13/30\n",
      "1875/1875 [==============================] - 4s 2ms/step - loss: 0.4846 - accuracy: 0.8216 - val_loss: 0.6060 - val_accuracy: 0.7505\n",
      "Epoch 14/30\n",
      "1875/1875 [==============================] - 4s 2ms/step - loss: 0.4783 - accuracy: 0.8260 - val_loss: 0.6024 - val_accuracy: 0.7544\n",
      "Epoch 15/30\n",
      "1875/1875 [==============================] - 4s 2ms/step - loss: 0.4773 - accuracy: 0.8248 - val_loss: 0.5832 - val_accuracy: 0.7668\n",
      "Epoch 16/30\n",
      "1875/1875 [==============================] - 4s 2ms/step - loss: 0.4731 - accuracy: 0.8274 - val_loss: 0.6242 - val_accuracy: 0.7530\n",
      "Epoch 17/30\n",
      "1875/1875 [==============================] - 4s 2ms/step - loss: 0.4710 - accuracy: 0.8281 - val_loss: 0.5580 - val_accuracy: 0.7870\n",
      "Epoch 18/30\n",
      "1875/1875 [==============================] - 4s 2ms/step - loss: 0.4692 - accuracy: 0.8279 - val_loss: 0.5555 - val_accuracy: 0.7874\n",
      "Epoch 19/30\n",
      "1875/1875 [==============================] - 4s 2ms/step - loss: 0.4653 - accuracy: 0.8288 - val_loss: 0.5239 - val_accuracy: 0.8038\n",
      "Epoch 20/30\n",
      "1875/1875 [==============================] - 4s 2ms/step - loss: 0.4614 - accuracy: 0.8300 - val_loss: 0.5292 - val_accuracy: 0.8067\n",
      "Epoch 21/30\n",
      "1875/1875 [==============================] - 4s 2ms/step - loss: 0.4600 - accuracy: 0.8321 - val_loss: 0.5424 - val_accuracy: 0.7893\n",
      "Epoch 22/30\n",
      "1875/1875 [==============================] - 4s 2ms/step - loss: 0.4595 - accuracy: 0.8310 - val_loss: 0.5575 - val_accuracy: 0.7891\n",
      "Epoch 23/30\n",
      "1875/1875 [==============================] - 4s 2ms/step - loss: 0.4572 - accuracy: 0.8315 - val_loss: 0.5870 - val_accuracy: 0.7734\n",
      "Epoch 24/30\n",
      "1875/1875 [==============================] - 4s 2ms/step - loss: 0.4596 - accuracy: 0.8315 - val_loss: 0.5432 - val_accuracy: 0.8004\n",
      "Epoch 25/30\n",
      "1875/1875 [==============================] - 4s 2ms/step - loss: 0.4526 - accuracy: 0.8349 - val_loss: 0.5359 - val_accuracy: 0.7955\n",
      "Epoch 26/30\n",
      "1875/1875 [==============================] - 4s 2ms/step - loss: 0.4527 - accuracy: 0.8333 - val_loss: 0.5213 - val_accuracy: 0.8016\n",
      "Epoch 27/30\n",
      "1875/1875 [==============================] - 4s 2ms/step - loss: 0.4512 - accuracy: 0.8351 - val_loss: 0.5125 - val_accuracy: 0.8136\n",
      "Epoch 28/30\n",
      "1875/1875 [==============================] - 4s 2ms/step - loss: 0.4455 - accuracy: 0.8368 - val_loss: 0.5183 - val_accuracy: 0.8076\n",
      "Epoch 29/30\n",
      "1875/1875 [==============================] - 4s 2ms/step - loss: 0.4482 - accuracy: 0.8344 - val_loss: 0.5080 - val_accuracy: 0.8115\n",
      "Epoch 30/30\n",
      "1875/1875 [==============================] - 4s 2ms/step - loss: 0.4527 - accuracy: 0.8324 - val_loss: 0.5741 - val_accuracy: 0.7551\n"
     ]
    }
   ],
   "source": [
    "history = model.fit(train_images, \n",
    "                    train_labels,\n",
    "                    epochs = 30,\n",
    "                    validation_data = (test_images, test_labels))"
   ]
  },
  {
   "cell_type": "code",
   "execution_count": 18,
   "id": "2760267c",
   "metadata": {},
   "outputs": [
    {
     "data": {
      "text/plain": [
       "dict_keys(['loss', 'accuracy', 'val_loss', 'val_accuracy'])"
      ]
     },
     "execution_count": 18,
     "metadata": {},
     "output_type": "execute_result"
    }
   ],
   "source": [
    "history.history.keys()"
   ]
  },
  {
   "cell_type": "code",
   "execution_count": 19,
   "id": "c2a5a756",
   "metadata": {},
   "outputs": [
    {
     "data": {
      "text/plain": [
       "<matplotlib.legend.Legend at 0x225afd37160>"
      ]
     },
     "execution_count": 19,
     "metadata": {},
     "output_type": "execute_result"
    },
    {
     "data": {
      "image/png": "[encoded data removed]",
      "text/plain": [
       "<Figure size 640x480 with 1 Axes>"
      ]
     },
     "metadata": {},
     "output_type": "display_data"
    }
   ],
   "source": [
    "plt.plot(history.epoch, history.history.get('loss'), label = 'loss')\n",
    "plt.plot(history.epoch, history.history.get('val_loss'), label = 'val_loss')\n",
    "plt.legend()"
   ]
  },
  {
   "cell_type": "code",
   "execution_count": 21,
   "id": "023f933d",
   "metadata": {},
   "outputs": [
    {
     "data": {
      "text/plain": [
       "<matplotlib.legend.Legend at 0x225ae51edc0>"
      ]
     },
     "execution_count": 21,
     "metadata": {},
     "output_type": "execute_result"
    },
    {
     "data": {
      "image/png": "[encoded data removed]",
      "text/plain": [
       "<Figure size 640x480 with 1 Axes>"
      ]
     },
     "metadata": {},
     "output_type": "display_data"
    }
   ],
   "source": [
    "plt.plot(history.epoch, history.history.get('accuracy'), label='accuracy')\n",
    "plt.plot(history.epoch, history.history.get('val_accuracy'), label='val_accuracy')\n",
    "plt.legend()"
   ]
  },
  {
   "cell_type": "markdown",
   "id": "4ab4192c",
   "metadata": {},
   "source": [
    "# 多输入"
   ]
  },
  {
   "cell_type": "code",
   "execution_count": 33,
   "id": "4667ee29",
   "metadata": {},
   "outputs": [],
   "source": [
    "input1 = keras.Input(shape=(28, 28))"
   ]
  },
  {
   "cell_type": "code",
   "execution_count": 34,
   "id": "0a01ba54",
   "metadata": {},
   "outputs": [],
   "source": [
    "input2 = keras.Input(shape=(28, 28))"
   ]
  },
  {
   "cell_type": "code",
   "execution_count": 35,
   "id": "e5c0d2ce",
   "metadata": {},
   "outputs": [],
   "source": [
    "x1 = keras.layers.Flatten()(input1)\n",
    "x2 = keras.layers.Flatten()(input2)"
   ]
  },
  {
   "cell_type": "markdown",
   "id": "06f037f2",
   "metadata": {},
   "source": [
    "将x1和x2合并在一起"
   ]
  },
  {
   "cell_type": "code",
   "execution_count": 36,
   "id": "9d7ec8e7",
   "metadata": {},
   "outputs": [],
   "source": [
    "x = keras.layers.concatenate([x1, x2])"
   ]
  },
  {
   "cell_type": "code",
   "execution_count": 37,
   "id": "14e42c73",
   "metadata": {},
   "outputs": [],
   "source": [
    "x = keras.layers.Dense(32, activation='relu')(x)"
   ]
  },
  {
   "cell_type": "code",
   "execution_count": 38,
   "id": "695b369e",
   "metadata": {},
   "outputs": [],
   "source": [
    "output = keras.layers.Dense(1, activation = 'sigmoid')(x)"
   ]
  },
  {
   "cell_type": "code",
   "execution_count": 39,
   "id": "26ee10da",
   "metadata": {},
   "outputs": [],
   "source": [
    "model = keras.Model(inputs = [input1, input2], outputs = output)"
   ]
  },
  {
   "cell_type": "code",
   "execution_count": 40,
   "id": "acdcd0ef",
   "metadata": {},
   "outputs": [
    {
     "name": "stdout",
     "output_type": "stream",
     "text": [
      "Model: \"model_1\"\n",
      "__________________________________________________________________________________________________\n",
      " Layer (type)                   Output Shape         Param #     Connected to                     \n",
      "==================================================================================================\n",
      " input_6 (InputLayer)           [(None, 28, 28)]     0           []                               \n",
      "                                                                                                  \n",
      " input_7 (InputLayer)           [(None, 28, 28)]     0           []                               \n",
      "                                                                                                  \n",
      " flatten_5 (Flatten)            (None, 784)          0           ['input_6[0][0]']                \n",
      "                                                                                                  \n",
      " flatten_6 (Flatten)            (None, 784)          0           ['input_7[0][0]']                \n",
      "                                                                                                  \n",
      " concatenate_1 (Concatenate)    (None, 1568)         0           ['flatten_5[0][0]',              \n",
      "                                                                  'flatten_6[0][0]']              \n",
      "                                                                                                  \n",
      " dense_6 (Dense)                (None, 32)           50208       ['concatenate_1[0][0]']          \n",
      "                                                                                                  \n",
      " dense_7 (Dense)                (None, 1)            33          ['dense_6[0][0]']                \n",
      "                                                                                                  \n",
      "==================================================================================================\n",
      "Total params: 50,241\n",
      "Trainable params: 50,241\n",
      "Non-trainable params: 0\n",
      "__________________________________________________________________________________________________\n"
     ]
    }
   ],
   "source": [
    "model.summary()"
   ]
  },
  {
   "cell_type": "code",
   "execution_count": null,
   "id": "ee83420c",
   "metadata": {},
   "outputs": [],
   "source": []
  },
  {
   "cell_type": "code",
   "execution_count": null,
   "id": "4eed3057",
   "metadata": {},
   "outputs": [],
   "source": []
  },
  {
   "cell_type": "code",
   "execution_count": null,
   "id": "41b16023",
   "metadata": {},
   "outputs": [],
   "source": []
  }
 ],
 "metadata": {
  "kernelspec": {
   "display_name": "Python 3 (ipykernel)",
   "language": "python",
   "name": "python3"
  },
  "language_info": {
   "codemirror_mode": {
    "name": "ipython",
    "version": 3
   },
   "file_extension": ".py",
   "mimetype": "text/x-python",
   "name": "python",
   "nbconvert_exporter": "python",
   "pygments_lexer": "ipython3",
   "version": "3.9.13"
  }
 },
 "nbformat": 4,
 "nbformat_minor": 5
}
