{
 "cells": [
  {
   "cell_type": "code",
   "execution_count": 31,
   "id": "501ffeb2",
   "metadata": {},
   "outputs": [],
   "source": [
    "import tensorflow as tf"
   ]
  },
  {
   "cell_type": "code",
   "execution_count": 32,
   "id": "5c595a5c",
   "metadata": {},
   "outputs": [
    {
     "name": "stdout",
     "output_type": "stream",
     "text": [
      "Tensorflow Version: 2.11.0\n"
     ]
    }
   ],
   "source": [
    "print('Tensorflow Version: {}'.format(tf.__version__))"
   ]
  },
  {
   "cell_type": "code",
   "execution_count": 33,
   "id": "1ef8e57e",
   "metadata": {},
   "outputs": [
    {
     "data": {
      "text/plain": [
       "'1.4.4'"
      ]
     },
     "execution_count": 33,
     "metadata": {},
     "output_type": "execute_result"
    }
   ],
   "source": [
    "import pandas as pd\n",
    "pd.__version__"
   ]
  },
  {
   "cell_type": "code",
   "execution_count": 34,
   "id": "7074b103",
   "metadata": {},
   "outputs": [],
   "source": [
    "import numpy as np\n",
    "import matplotlib.pyplot as plt\n",
    "%matplotlib inline"
   ]
  },
  {
   "cell_type": "code",
   "execution_count": 35,
   "id": "f2a105c7",
   "metadata": {},
   "outputs": [],
   "source": [
    "data = pd.read_csv('test/Advertising.csv')"
   ]
  },
  {
   "cell_type": "code",
   "execution_count": 36,
   "id": "7debf23f",
   "metadata": {},
   "outputs": [
    {
     "data": {
      "text/html": [
       "<div>\n",
       "<style scoped>\n",
       "    .dataframe tbody tr th:only-of-type {\n",
       "        vertical-align: middle;\n",
       "    }\n",
       "\n",
       "    .dataframe tbody tr th {\n",
       "        vertical-align: top;\n",
       "    }\n",
       "\n",
       "    .dataframe thead th {\n",
       "        text-align: right;\n",
       "    }\n",
       "</style>\n",
       "<table border=\"1\" class=\"dataframe\">\n",
       "  <thead>\n",
       "    <tr style=\"text-align: right;\">\n",
       "      <th></th>\n",
       "      <th>Unnamed: 0</th>\n",
       "      <th>TV</th>\n",
       "      <th>radio</th>\n",
       "      <th>newspaper</th>\n",
       "      <th>sales</th>\n",
       "    </tr>\n",
       "  </thead>\n",
       "  <tbody>\n",
       "    <tr>\n",
       "      <th>0</th>\n",
       "      <td>1</td>\n",
       "      <td>230.1</td>\n",
       "      <td>37.8</td>\n",
       "      <td>69.2</td>\n",
       "      <td>22.1</td>\n",
       "    </tr>\n",
       "    <tr>\n",
       "      <th>1</th>\n",
       "      <td>2</td>\n",
       "      <td>44.5</td>\n",
       "      <td>39.3</td>\n",
       "      <td>45.1</td>\n",
       "      <td>10.4</td>\n",
       "    </tr>\n",
       "    <tr>\n",
       "      <th>2</th>\n",
       "      <td>3</td>\n",
       "      <td>17.2</td>\n",
       "      <td>45.9</td>\n",
       "      <td>69.3</td>\n",
       "      <td>9.3</td>\n",
       "    </tr>\n",
       "    <tr>\n",
       "      <th>3</th>\n",
       "      <td>4</td>\n",
       "      <td>151.5</td>\n",
       "      <td>41.3</td>\n",
       "      <td>58.5</td>\n",
       "      <td>18.5</td>\n",
       "    </tr>\n",
       "    <tr>\n",
       "      <th>4</th>\n",
       "      <td>5</td>\n",
       "      <td>180.8</td>\n",
       "      <td>10.8</td>\n",
       "      <td>58.4</td>\n",
       "      <td>12.9</td>\n",
       "    </tr>\n",
       "  </tbody>\n",
       "</table>\n",
       "</div>"
      ],
      "text/plain": [
       "   Unnamed: 0     TV  radio  newspaper  sales\n",
       "0           1  230.1   37.8       69.2   22.1\n",
       "1           2   44.5   39.3       45.1   10.4\n",
       "2           3   17.2   45.9       69.3    9.3\n",
       "3           4  151.5   41.3       58.5   18.5\n",
       "4           5  180.8   10.8       58.4   12.9"
      ]
     },
     "execution_count": 36,
     "metadata": {},
     "output_type": "execute_result"
    }
   ],
   "source": [
    "data.head()"
   ]
  },
  {
   "cell_type": "code",
   "execution_count": 37,
   "id": "9018df9c",
   "metadata": {},
   "outputs": [
    {
     "data": {
      "text/plain": [
       "<matplotlib.collections.PathCollection at 0x17e0d337be0>"
      ]
     },
     "execution_count": 37,
     "metadata": {},
     "output_type": "execute_result"
    },
    {
     "data": {
      "image/png": "[encoded data removed]",
      "text/plain": [
       "<Figure size 640x480 with 1 Axes>"
      ]
     },
     "metadata": {},
     "output_type": "display_data"
    }
   ],
   "source": [
    "plt.scatter(data.TV, data.sales)"
   ]
  },
  {
   "cell_type": "code",
   "execution_count": 38,
   "id": "697a7972",
   "metadata": {},
   "outputs": [
    {
     "data": {
      "text/plain": [
       "<matplotlib.collections.PathCollection at 0x17e0d4d1160>"
      ]
     },
     "execution_count": 38,
     "metadata": {},
     "output_type": "execute_result"
    },
    {
     "data": {
      "image/png": "[encoded data removed]",
      "text/plain": [
       "<Figure size 640x480 with 1 Axes>"
      ]
     },
     "metadata": {},
     "output_type": "display_data"
    }
   ],
   "source": [
    "plt.scatter(data.radio, data.sales)"
   ]
  },
  {
   "cell_type": "code",
   "execution_count": 39,
   "id": "0cbe39a6",
   "metadata": {},
   "outputs": [
    {
     "data": {
      "text/plain": [
       "<matplotlib.collections.PathCollection at 0x17e0d3ae3d0>"
      ]
     },
     "execution_count": 39,
     "metadata": {},
     "output_type": "execute_result"
    },
    {
     "data": {
      "image/png": "[encoded data removed]",
      "text/plain": [
       "<Figure size 640x480 with 1 Axes>"
      ]
     },
     "metadata": {},
     "output_type": "display_data"
    }
   ],
   "source": [
    "plt.scatter(data.newspaper, data.sales)"
   ]
  },
  {
   "cell_type": "markdown",
   "id": "b256e204",
   "metadata": {},
   "source": [
    "用iloc，取所有的行用[:],除去第一列和最后一列就是[:, 1:-1]"
   ]
  },
  {
   "cell_type": "code",
   "execution_count": 40,
   "id": "09abe506",
   "metadata": {},
   "outputs": [],
   "source": [
    "x = data.iloc[:, 1:-1]\n",
    "y = data.iloc[:,-1]"
   ]
  },
  {
   "cell_type": "markdown",
   "id": "c2cc75b3",
   "metadata": {},
   "source": [
    "Sequential-->建立一个顺序模型，Dense完成一个ax1+bx2+cx3的动作，也就是初始化一些a和这些变量相乘。\n",
    "Dence第一个参数中间隐含层输出多少个单元，参数越大，拟合能力越强。然后添加一个激活函数\n",
    "然后增加第二个输出层。"
   ]
  },
  {
   "cell_type": "code",
   "execution_count": 41,
   "id": "7f35cd5e",
   "metadata": {},
   "outputs": [],
   "source": [
    "model = tf.keras.Sequential([tf.keras.layers.Dense(10, input_shape=(3,), activation='relu'),\n",
    "                            tf.keras.layers.Dense(1)]\n",
    "                           )"
   ]
  },
  {
   "cell_type": "markdown",
   "id": "0c6eda30",
   "metadata": {},
   "source": [
    "输出的第一个中间层是Dense层，包含10个隐藏单元，一共有40个参数（因为输出10个隐藏单元，有3个权重和一个偏置）。\n",
    "10个隐藏单元，分别乘以权重再加上偏置"
   ]
  },
  {
   "cell_type": "code",
   "execution_count": 42,
   "id": "ad3461ae",
   "metadata": {},
   "outputs": [
    {
     "name": "stdout",
     "output_type": "stream",
     "text": [
      "Model: \"sequential_1\"\n",
      "_________________________________________________________________\n",
      " Layer (type)                Output Shape              Param #   \n",
      "=================================================================\n",
      " dense_2 (Dense)             (None, 10)                40        \n",
      "                                                                 \n",
      " dense_3 (Dense)             (None, 1)                 11        \n",
      "                                                                 \n",
      "=================================================================\n",
      "Total params: 51\n",
      "Trainable params: 51\n",
      "Non-trainable params: 0\n",
      "_________________________________________________________________\n"
     ]
    }
   ],
   "source": [
    "model.summary()"
   ]
  },
  {
   "cell_type": "markdown",
   "id": "63524993",
   "metadata": {},
   "source": [
    "优化器仍选择adam，仍然使用均方差做输入和输出的损失（loss）"
   ]
  },
  {
   "cell_type": "code",
   "execution_count": 68,
   "id": "21a00b2e",
   "metadata": {},
   "outputs": [],
   "source": [
    "model.compile(optimizer = 'adam',\n",
    "             loss = 'mse'\n",
    "             )"
   ]
  },
  {
   "cell_type": "markdown",
   "id": "ec5a140d",
   "metadata": {},
   "source": [
    "训练200次"
   ]
  },
  {
   "cell_type": "code",
   "execution_count": 69,
   "id": "ae0b2b39",
   "metadata": {},
   "outputs": [
    {
     "name": "stdout",
     "output_type": "stream",
     "text": [
      "Epoch 1/200\n",
      "7/7 [==============================] - 0s 2ms/step - loss: 2.1918\n",
      "Epoch 2/200\n",
      "7/7 [==============================] - 0s 2ms/step - loss: 2.0722\n",
      "Epoch 3/200\n",
      "7/7 [==============================] - 0s 3ms/step - loss: 2.1699\n",
      "Epoch 4/200\n",
      "7/7 [==============================] - 0s 0s/step - loss: 2.2276\n",
      "Epoch 5/200\n",
      "7/7 [==============================] - 0s 1ms/step - loss: 2.0329\n",
      "Epoch 6/200\n",
      "7/7 [==============================] - 0s 1ms/step - loss: 2.0182\n",
      "Epoch 7/200\n",
      "7/7 [==============================] - 0s 1ms/step - loss: 2.0152\n",
      "Epoch 8/200\n",
      "7/7 [==============================] - 0s 2ms/step - loss: 2.0928\n",
      "Epoch 9/200\n",
      "7/7 [==============================] - 0s 0s/step - loss: 2.0138\n",
      "Epoch 10/200\n",
      "7/7 [==============================] - 0s 824us/step - loss: 1.9819\n",
      "Epoch 11/200\n",
      "7/7 [==============================] - 0s 725us/step - loss: 1.9344\n",
      "Epoch 12/200\n",
      "7/7 [==============================] - 0s 2ms/step - loss: 1.9309\n",
      "Epoch 13/200\n",
      "7/7 [==============================] - 0s 2ms/step - loss: 1.9147\n",
      "Epoch 14/200\n",
      "7/7 [==============================] - 0s 2ms/step - loss: 1.9358\n",
      "Epoch 15/200\n",
      "7/7 [==============================] - 0s 1ms/step - loss: 1.9102\n",
      "Epoch 16/200\n",
      "7/7 [==============================] - 0s 1ms/step - loss: 1.8912\n",
      "Epoch 17/200\n",
      "7/7 [==============================] - 0s 2ms/step - loss: 1.8863\n",
      "Epoch 18/200\n",
      "7/7 [==============================] - 0s 0s/step - loss: 1.8575\n",
      "Epoch 19/200\n",
      "7/7 [==============================] - 0s 3ms/step - loss: 1.8610\n",
      "Epoch 20/200\n",
      "7/7 [==============================] - 0s 2ms/step - loss: 1.8708\n",
      "Epoch 21/200\n",
      "7/7 [==============================] - 0s 678us/step - loss: 1.9006\n",
      "Epoch 22/200\n",
      "7/7 [==============================] - 0s 2ms/step - loss: 1.9320\n",
      "Epoch 23/200\n",
      "7/7 [==============================] - 0s 4ms/step - loss: 2.1015\n",
      "Epoch 24/200\n",
      "7/7 [==============================] - 0s 1ms/step - loss: 2.1281\n",
      "Epoch 25/200\n",
      "7/7 [==============================] - 0s 558us/step - loss: 2.0681\n",
      "Epoch 26/200\n",
      "7/7 [==============================] - 0s 2ms/step - loss: 2.0233\n",
      "Epoch 27/200\n",
      "7/7 [==============================] - 0s 2ms/step - loss: 1.9242\n",
      "Epoch 28/200\n",
      "7/7 [==============================] - 0s 3ms/step - loss: 1.8581\n",
      "Epoch 29/200\n",
      "7/7 [==============================] - 0s 0s/step - loss: 1.8878\n",
      "Epoch 30/200\n",
      "7/7 [==============================] - 0s 988us/step - loss: 1.7873\n",
      "Epoch 31/200\n",
      "7/7 [==============================] - 0s 2ms/step - loss: 1.8097\n",
      "Epoch 32/200\n",
      "7/7 [==============================] - 0s 3ms/step - loss: 1.6977\n",
      "Epoch 33/200\n",
      "7/7 [==============================] - 0s 1ms/step - loss: 1.7552\n",
      "Epoch 34/200\n",
      "7/7 [==============================] - 0s 1ms/step - loss: 1.7074\n",
      "Epoch 35/200\n",
      "7/7 [==============================] - 0s 2ms/step - loss: 1.7236\n",
      "Epoch 36/200\n",
      "7/7 [==============================] - 0s 8us/step - loss: 1.8500\n",
      "Epoch 37/200\n",
      "7/7 [==============================] - 0s 934us/step - loss: 1.7878\n",
      "Epoch 38/200\n",
      "7/7 [==============================] - 0s 2ms/step - loss: 1.6846\n",
      "Epoch 39/200\n",
      "7/7 [==============================] - 0s 3ms/step - loss: 1.6736\n",
      "Epoch 40/200\n",
      "7/7 [==============================] - 0s 3ms/step - loss: 1.7002\n",
      "Epoch 41/200\n",
      "7/7 [==============================] - 0s 2ms/step - loss: 1.6728\n",
      "Epoch 42/200\n",
      "7/7 [==============================] - 0s 1ms/step - loss: 1.6582\n",
      "Epoch 43/200\n",
      "7/7 [==============================] - 0s 84us/step - loss: 1.6588\n",
      "Epoch 44/200\n",
      "7/7 [==============================] - 0s 1ms/step - loss: 1.6684\n",
      "Epoch 45/200\n",
      "7/7 [==============================] - 0s 2ms/step - loss: 1.6295\n",
      "Epoch 46/200\n",
      "7/7 [==============================] - 0s 3ms/step - loss: 1.6145\n",
      "Epoch 47/200\n",
      "7/7 [==============================] - 0s 2ms/step - loss: 1.6047\n",
      "Epoch 48/200\n",
      "7/7 [==============================] - 0s 385us/step - loss: 1.5981\n",
      "Epoch 49/200\n",
      "7/7 [==============================] - 0s 168us/step - loss: 1.5997\n",
      "Epoch 50/200\n",
      "7/7 [==============================] - 0s 1ms/step - loss: 1.5979\n",
      "Epoch 51/200\n",
      "7/7 [==============================] - 0s 2ms/step - loss: 1.5746\n",
      "Epoch 52/200\n",
      "7/7 [==============================] - 0s 2ms/step - loss: 1.5715\n",
      "Epoch 53/200\n",
      "7/7 [==============================] - 0s 0s/step - loss: 1.5746\n",
      "Epoch 54/200\n",
      "7/7 [==============================] - 0s 780us/step - loss: 1.5706\n",
      "Epoch 55/200\n",
      "7/7 [==============================] - 0s 731us/step - loss: 1.5689\n",
      "Epoch 56/200\n",
      "7/7 [==============================] - 0s 2ms/step - loss: 1.5744\n",
      "Epoch 57/200\n",
      "7/7 [==============================] - 0s 1ms/step - loss: 1.5679\n",
      "Epoch 58/200\n",
      "7/7 [==============================] - 0s 3ms/step - loss: 1.5611\n",
      "Epoch 59/200\n",
      "7/7 [==============================] - 0s 0s/step - loss: 1.5829\n",
      "Epoch 60/200\n",
      "7/7 [==============================] - 0s 891us/step - loss: 1.5810\n",
      "Epoch 61/200\n",
      "7/7 [==============================] - 0s 2ms/step - loss: 1.5337\n",
      "Epoch 62/200\n",
      "7/7 [==============================] - 0s 83us/step - loss: 1.6065\n",
      "Epoch 63/200\n",
      "7/7 [==============================] - 0s 475us/step - loss: 1.6083\n",
      "Epoch 64/200\n",
      "7/7 [==============================] - 0s 1ms/step - loss: 1.7114\n",
      "Epoch 65/200\n",
      "7/7 [==============================] - 0s 870us/step - loss: 1.7600\n",
      "Epoch 66/200\n",
      "7/7 [==============================] - 0s 3ms/step - loss: 1.5042\n",
      "Epoch 67/200\n",
      "7/7 [==============================] - 0s 0s/step - loss: 1.5125\n",
      "Epoch 68/200\n",
      "7/7 [==============================] - 0s 93us/step - loss: 1.5819\n",
      "Epoch 69/200\n",
      "7/7 [==============================] - 0s 359us/step - loss: 1.5026\n",
      "Epoch 70/200\n",
      "7/7 [==============================] - 0s 3ms/step - loss: 1.5169\n",
      "Epoch 71/200\n",
      "7/7 [==============================] - 0s 2ms/step - loss: 1.4808\n",
      "Epoch 72/200\n",
      "7/7 [==============================] - 0s 0s/step - loss: 1.4653\n",
      "Epoch 73/200\n",
      "7/7 [==============================] - 0s 3ms/step - loss: 1.4774\n",
      "Epoch 74/200\n",
      "7/7 [==============================] - 0s 0s/step - loss: 1.4606\n",
      "Epoch 75/200\n",
      "7/7 [==============================] - 0s 574us/step - loss: 1.4763\n",
      "Epoch 76/200\n",
      "7/7 [==============================] - 0s 2ms/step - loss: 1.4628\n",
      "Epoch 77/200\n",
      "7/7 [==============================] - 0s 1ms/step - loss: 1.4558\n",
      "Epoch 78/200\n",
      "7/7 [==============================] - 0s 752us/step - loss: 1.4841\n",
      "Epoch 79/200\n",
      "7/7 [==============================] - 0s 2ms/step - loss: 1.4411\n",
      "Epoch 80/200\n",
      "7/7 [==============================] - 0s 0s/step - loss: 1.4580\n",
      "Epoch 81/200\n",
      "7/7 [==============================] - 0s 872us/step - loss: 1.4586\n",
      "Epoch 82/200\n",
      "7/7 [==============================] - 0s 0s/step - loss: 1.4421\n",
      "Epoch 83/200\n",
      "7/7 [==============================] - 0s 0s/step - loss: 1.4298\n",
      "Epoch 84/200\n",
      "7/7 [==============================] - 0s 3ms/step - loss: 1.4344\n",
      "Epoch 85/200\n",
      "7/7 [==============================] - 0s 0s/step - loss: 1.4214\n",
      "Epoch 86/200\n",
      "7/7 [==============================] - 0s 3ms/step - loss: 1.4553\n",
      "Epoch 87/200\n",
      "7/7 [==============================] - 0s 2ms/step - loss: 1.4266\n",
      "Epoch 88/200\n",
      "7/7 [==============================] - 0s 0s/step - loss: 1.4808\n",
      "Epoch 89/200\n",
      "7/7 [==============================] - 0s 262us/step - loss: 1.4413\n",
      "Epoch 90/200\n",
      "7/7 [==============================] - 0s 3ms/step - loss: 1.4010\n",
      "Epoch 91/200\n",
      "7/7 [==============================] - 0s 616us/step - loss: 1.4314\n",
      "Epoch 92/200\n",
      "7/7 [==============================] - 0s 2ms/step - loss: 1.4221\n",
      "Epoch 93/200\n",
      "7/7 [==============================] - 0s 2ms/step - loss: 1.4414\n",
      "Epoch 94/200\n",
      "7/7 [==============================] - 0s 413us/step - loss: 1.4299\n",
      "Epoch 95/200\n",
      "7/7 [==============================] - 0s 2ms/step - loss: 1.4966\n",
      "Epoch 96/200\n",
      "7/7 [==============================] - 0s 2ms/step - loss: 1.4095\n",
      "Epoch 97/200\n",
      "7/7 [==============================] - 0s 0s/step - loss: 1.3847\n",
      "Epoch 98/200\n",
      "7/7 [==============================] - 0s 3ms/step - loss: 1.3985\n",
      "Epoch 99/200\n",
      "7/7 [==============================] - 0s 2ms/step - loss: 1.3901\n",
      "Epoch 100/200\n",
      "7/7 [==============================] - 0s 554us/step - loss: 1.4357\n",
      "Epoch 101/200\n",
      "7/7 [==============================] - 0s 2ms/step - loss: 1.4022\n",
      "Epoch 102/200\n",
      "7/7 [==============================] - 0s 3ms/step - loss: 1.3485\n",
      "Epoch 103/200\n",
      "7/7 [==============================] - 0s 274us/step - loss: 1.3508\n",
      "Epoch 104/200\n"
     ]
    },
    {
     "name": "stdout",
     "output_type": "stream",
     "text": [
      "7/7 [==============================] - 0s 3ms/step - loss: 1.3727\n",
      "Epoch 105/200\n",
      "7/7 [==============================] - 0s 0s/step - loss: 1.4204\n",
      "Epoch 106/200\n",
      "7/7 [==============================] - 0s 474us/step - loss: 1.3763\n",
      "Epoch 107/200\n",
      "7/7 [==============================] - 0s 2ms/step - loss: 1.3413\n",
      "Epoch 108/200\n",
      "7/7 [==============================] - 0s 0s/step - loss: 1.3334\n",
      "Epoch 109/200\n",
      "7/7 [==============================] - 0s 814us/step - loss: 1.3218\n",
      "Epoch 110/200\n",
      "7/7 [==============================] - 0s 2ms/step - loss: 1.3763\n",
      "Epoch 111/200\n",
      "7/7 [==============================] - 0s 0s/step - loss: 1.4259\n",
      "Epoch 112/200\n",
      "7/7 [==============================] - 0s 183us/step - loss: 1.5690\n",
      "Epoch 113/200\n",
      "7/7 [==============================] - 0s 3ms/step - loss: 1.6050\n",
      "Epoch 114/200\n",
      "7/7 [==============================] - 0s 3ms/step - loss: 1.4211\n",
      "Epoch 115/200\n",
      "7/7 [==============================] - 0s 0s/step - loss: 1.3229\n",
      "Epoch 116/200\n",
      "7/7 [==============================] - 0s 0s/step - loss: 1.3093\n",
      "Epoch 117/200\n",
      "7/7 [==============================] - 0s 98us/step - loss: 1.3284\n",
      "Epoch 118/200\n",
      "7/7 [==============================] - 0s 3ms/step - loss: 1.3112\n",
      "Epoch 119/200\n",
      "7/7 [==============================] - 0s 3ms/step - loss: 1.3301\n",
      "Epoch 120/200\n",
      "7/7 [==============================] - 0s 3ms/step - loss: 1.3459\n",
      "Epoch 121/200\n",
      "7/7 [==============================] - 0s 0s/step - loss: 1.3029\n",
      "Epoch 122/200\n",
      "7/7 [==============================] - 0s 588us/step - loss: 1.3247\n",
      "Epoch 123/200\n",
      "7/7 [==============================] - 0s 2ms/step - loss: 1.2880\n",
      "Epoch 124/200\n",
      "7/7 [==============================] - 0s 0s/step - loss: 1.2814\n",
      "Epoch 125/200\n",
      "7/7 [==============================] - 0s 3ms/step - loss: 1.2885\n",
      "Epoch 126/200\n",
      "7/7 [==============================] - 0s 0s/step - loss: 1.2654\n",
      "Epoch 127/200\n",
      "7/7 [==============================] - 0s 389us/step - loss: 1.2777\n",
      "Epoch 128/200\n",
      "7/7 [==============================] - 0s 2ms/step - loss: 1.2742\n",
      "Epoch 129/200\n",
      "7/7 [==============================] - 0s 3ms/step - loss: 1.2771\n",
      "Epoch 130/200\n",
      "7/7 [==============================] - 0s 2ms/step - loss: 1.2966\n",
      "Epoch 131/200\n",
      "7/7 [==============================] - 0s 1ms/step - loss: 1.3030\n",
      "Epoch 132/200\n",
      "7/7 [==============================] - 0s 408us/step - loss: 1.2812\n",
      "Epoch 133/200\n",
      "7/7 [==============================] - 0s 2ms/step - loss: 1.2997\n",
      "Epoch 134/200\n",
      "7/7 [==============================] - 0s 0s/step - loss: 1.2545\n",
      "Epoch 135/200\n",
      "7/7 [==============================] - 0s 3ms/step - loss: 1.2713\n",
      "Epoch 136/200\n",
      "7/7 [==============================] - 0s 0s/step - loss: 1.3048\n",
      "Epoch 137/200\n",
      "7/7 [==============================] - 0s 0s/step - loss: 1.2765\n",
      "Epoch 138/200\n",
      "7/7 [==============================] - 0s 3ms/step - loss: 1.2801\n",
      "Epoch 139/200\n",
      "7/7 [==============================] - 0s 0s/step - loss: 1.3169\n",
      "Epoch 140/200\n",
      "7/7 [==============================] - 0s 0s/step - loss: 1.2349\n",
      "Epoch 141/200\n",
      "7/7 [==============================] - 0s 3ms/step - loss: 1.2361\n",
      "Epoch 142/200\n",
      "7/7 [==============================] - 0s 3ms/step - loss: 1.2360\n",
      "Epoch 143/200\n",
      "7/7 [==============================] - 0s 0s/step - loss: 1.2360\n",
      "Epoch 144/200\n",
      "7/7 [==============================] - 0s 167us/step - loss: 1.2560\n",
      "Epoch 145/200\n",
      "7/7 [==============================] - 0s 3ms/step - loss: 1.2294\n",
      "Epoch 146/200\n",
      "7/7 [==============================] - 0s 3ms/step - loss: 1.2431\n",
      "Epoch 147/200\n",
      "7/7 [==============================] - 0s 0s/step - loss: 1.2159\n",
      "Epoch 148/200\n",
      "7/7 [==============================] - 0s 420us/step - loss: 1.2550\n",
      "Epoch 149/200\n",
      "7/7 [==============================] - 0s 3ms/step - loss: 1.2793\n",
      "Epoch 150/200\n",
      "7/7 [==============================] - 0s 0s/step - loss: 1.2770\n",
      "Epoch 151/200\n",
      "7/7 [==============================] - 0s 522us/step - loss: 1.2245\n",
      "Epoch 152/200\n",
      "7/7 [==============================] - 0s 2ms/step - loss: 1.2427\n",
      "Epoch 153/200\n",
      "7/7 [==============================] - 0s 481us/step - loss: 1.2852\n",
      "Epoch 154/200\n",
      "7/7 [==============================] - 0s 3ms/step - loss: 1.2408\n",
      "Epoch 155/200\n",
      "7/7 [==============================] - 0s 728us/step - loss: 1.2336\n",
      "Epoch 156/200\n",
      "7/7 [==============================] - 0s 0s/step - loss: 1.1960\n",
      "Epoch 157/200\n",
      "7/7 [==============================] - 0s 3ms/step - loss: 1.1723\n",
      "Epoch 158/200\n",
      "7/7 [==============================] - 0s 3ms/step - loss: 1.1734\n",
      "Epoch 159/200\n",
      "7/7 [==============================] - 0s 0s/step - loss: 1.2116\n",
      "Epoch 160/200\n",
      "7/7 [==============================] - 0s 754us/step - loss: 1.2721\n",
      "Epoch 161/200\n",
      "7/7 [==============================] - 0s 2ms/step - loss: 1.1972\n",
      "Epoch 162/200\n",
      "7/7 [==============================] - 0s 1ms/step - loss: 1.1643\n",
      "Epoch 163/200\n",
      "7/7 [==============================] - 0s 536us/step - loss: 1.1770\n",
      "Epoch 164/200\n",
      "7/7 [==============================] - 0s 2ms/step - loss: 1.2531\n",
      "Epoch 165/200\n",
      "7/7 [==============================] - 0s 0s/step - loss: 1.2023\n",
      "Epoch 166/200\n",
      "7/7 [==============================] - 0s 3ms/step - loss: 1.2098\n",
      "Epoch 167/200\n",
      "7/7 [==============================] - 0s 3ms/step - loss: 1.1398\n",
      "Epoch 168/200\n",
      "7/7 [==============================] - 0s 0s/step - loss: 1.1541\n",
      "Epoch 169/200\n",
      "7/7 [==============================] - 0s 3ms/step - loss: 1.1414\n",
      "Epoch 170/200\n",
      "7/7 [==============================] - 0s 0s/step - loss: 1.1592\n",
      "Epoch 171/200\n",
      "7/7 [==============================] - 0s 0s/step - loss: 1.1376\n",
      "Epoch 172/200\n",
      "7/7 [==============================] - 0s 3ms/step - loss: 1.1466\n",
      "Epoch 173/200\n",
      "7/7 [==============================] - 0s 0s/step - loss: 1.1329\n",
      "Epoch 174/200\n",
      "7/7 [==============================] - 0s 430us/step - loss: 1.1266\n",
      "Epoch 175/200\n",
      "7/7 [==============================] - 0s 3ms/step - loss: 1.1145\n",
      "Epoch 176/200\n",
      "7/7 [==============================] - 0s 2ms/step - loss: 1.1096\n",
      "Epoch 177/200\n",
      "7/7 [==============================] - 0s 0s/step - loss: 1.1123\n",
      "Epoch 178/200\n",
      "7/7 [==============================] - 0s 546us/step - loss: 1.1562\n",
      "Epoch 179/200\n",
      "7/7 [==============================] - 0s 1ms/step - loss: 1.0984\n",
      "Epoch 180/200\n",
      "7/7 [==============================] - 0s 1ms/step - loss: 1.1043\n",
      "Epoch 181/200\n",
      "7/7 [==============================] - 0s 1ms/step - loss: 1.1039\n",
      "Epoch 182/200\n",
      "7/7 [==============================] - 0s 1ms/step - loss: 1.0917\n",
      "Epoch 183/200\n",
      "7/7 [==============================] - 0s 725us/step - loss: 1.0861\n",
      "Epoch 184/200\n",
      "7/7 [==============================] - 0s 2ms/step - loss: 1.0896\n",
      "Epoch 185/200\n",
      "7/7 [==============================] - 0s 0s/step - loss: 1.0741\n",
      "Epoch 186/200\n",
      "7/7 [==============================] - 0s 997us/step - loss: 1.0997\n",
      "Epoch 187/200\n",
      "7/7 [==============================] - 0s 1ms/step - loss: 1.0736\n",
      "Epoch 188/200\n",
      "7/7 [==============================] - 0s 1ms/step - loss: 1.0806\n",
      "Epoch 189/200\n",
      "7/7 [==============================] - 0s 713us/step - loss: 1.0653\n",
      "Epoch 190/200\n",
      "7/7 [==============================] - 0s 628us/step - loss: 1.0829\n",
      "Epoch 191/200\n",
      "7/7 [==============================] - 0s 2ms/step - loss: 1.0728\n",
      "Epoch 192/200\n",
      "7/7 [==============================] - 0s 0s/step - loss: 1.0487\n",
      "Epoch 193/200\n",
      "7/7 [==============================] - 0s 706us/step - loss: 1.0413\n",
      "Epoch 194/200\n",
      "7/7 [==============================] - 0s 1ms/step - loss: 1.0667\n",
      "Epoch 195/200\n",
      "7/7 [==============================] - 0s 1ms/step - loss: 1.0558\n",
      "Epoch 196/200\n",
      "7/7 [==============================] - 0s 2ms/step - loss: 1.0449\n",
      "Epoch 197/200\n",
      "7/7 [==============================] - 0s 100us/step - loss: 1.0389\n",
      "Epoch 198/200\n",
      "7/7 [==============================] - 0s 1ms/step - loss: 1.0391\n",
      "Epoch 199/200\n",
      "7/7 [==============================] - 0s 610us/step - loss: 1.1598\n",
      "Epoch 200/200\n",
      "7/7 [==============================] - 0s 880us/step - loss: 1.0868\n"
     ]
    },
    {
     "data": {
      "text/plain": [
       "<keras.callbacks.History at 0x17e0e7863d0>"
      ]
     },
     "execution_count": 69,
     "metadata": {},
     "output_type": "execute_result"
    }
   ],
   "source": [
    "model.fit(x, y, epochs = 200)"
   ]
  },
  {
   "cell_type": "markdown",
   "id": "b9969834",
   "metadata": {},
   "source": [
    "对前10层进行预测"
   ]
  },
  {
   "cell_type": "code",
   "execution_count": 50,
   "id": "e972f00b",
   "metadata": {},
   "outputs": [],
   "source": [
    "test = data.iloc[:10, 1:-1]"
   ]
  },
  {
   "cell_type": "code",
   "execution_count": 51,
   "id": "3e19d1a5",
   "metadata": {},
   "outputs": [
    {
     "name": "stdout",
     "output_type": "stream",
     "text": [
      "1/1 [==============================] - 0s 17ms/step\n"
     ]
    },
    {
     "data": {
      "text/plain": [
       "array([[21.134861 ],\n",
       "       [ 9.948001 ],\n",
       "       [ 7.8870134],\n",
       "       [18.356281 ],\n",
       "       [13.603431 ],\n",
       "       [ 7.1978273],\n",
       "       [12.172893 ],\n",
       "       [11.688682 ],\n",
       "       [ 2.2124162],\n",
       "       [10.478335 ]], dtype=float32)"
      ]
     },
     "execution_count": 51,
     "metadata": {},
     "output_type": "execute_result"
    }
   ],
   "source": [
    "model.predict(test)"
   ]
  },
  {
   "cell_type": "markdown",
   "id": "f78b79dc",
   "metadata": {},
   "source": [
    "打印前10行的数据"
   ]
  },
  {
   "cell_type": "code",
   "execution_count": 88,
   "id": "dbda769b",
   "metadata": {},
   "outputs": [],
   "source": [
    "test = data.iloc[:10, -1]"
   ]
  },
  {
   "cell_type": "code",
   "execution_count": 89,
   "id": "150cc0e5",
   "metadata": {},
   "outputs": [
    {
     "data": {
      "text/plain": [
       "0    22.1\n",
       "1    10.4\n",
       "2     9.3\n",
       "3    18.5\n",
       "4    12.9\n",
       "5     7.2\n",
       "6    11.8\n",
       "7    13.2\n",
       "8     4.8\n",
       "9    10.6\n",
       "Name: sales, dtype: float64"
      ]
     },
     "execution_count": 89,
     "metadata": {},
     "output_type": "execute_result"
    }
   ],
   "source": [
    "test"
   ]
  },
  {
   "cell_type": "code",
   "execution_count": null,
   "id": "5b0499be",
   "metadata": {},
   "outputs": [],
   "source": []
  },
  {
   "cell_type": "code",
   "execution_count": null,
   "id": "204949a0",
   "metadata": {},
   "outputs": [],
   "source": []
  }
 ],
 "metadata": {
  "kernelspec": {
   "display_name": "Python 3 (ipykernel)",
   "language": "python",
   "name": "python3"
  },
  "language_info": {
   "codemirror_mode": {
    "name": "ipython",
    "version": 3
   },
   "file_extension": ".py",
   "mimetype": "text/x-python",
   "name": "python",
   "nbconvert_exporter": "python",
   "pygments_lexer": "ipython3",
   "version": "3.9.13"
  }
 },
 "nbformat": 4,
 "nbformat_minor": 5
}
